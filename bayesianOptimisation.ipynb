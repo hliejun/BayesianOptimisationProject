{
 "cells": [
  {
   "cell_type": "markdown",
   "metadata": {},
   "source": [
    "# Linking Dependencies"
   ]
  },
  {
   "cell_type": "code",
   "execution_count": 1,
   "metadata": {
    "collapsed": false
   },
   "outputs": [],
   "source": [
    "# imports\n",
    "%matplotlib inline\n",
    "import numpy as np\n",
    "import pandas as pd\n",
    "import matplotlib.pyplot as plt\n",
    "import matplotlib\n",
    "from bayes_opt.bayesian_optimization import BayesianOptimization\n",
    "from bayes_opt.helpers import UtilityFunction\n",
    "\n",
    "__all__ = [\"BayesianOptimization\", \"UtilityFunction\"]"
   ]
  },
  {
   "cell_type": "markdown",
   "metadata": {},
   "source": [
    "# Data Input"
   ]
  },
  {
   "cell_type": "code",
   "execution_count": 2,
   "metadata": {
    "collapsed": false
   },
   "outputs": [],
   "source": [
    "# read excel file\n",
    "raceDataFrame = pd.read_excel('data.xlsx', sheetname='Sheet1')\n",
    "raceData = np.array(raceDataFrame.values)\n",
    "raceData[np.argsort(raceData[:, -1])]\n",
    "numberOfRaces = int(raceData[-1][-1])\n",
    "proportion = 1/3\n",
    "separationPoint = int(proportion * (numberOfRaces - 1))\n",
    "\n",
    "# init array containing all races\n",
    "#(each race is a sequence of horse profile(X) and speed(Y), with speed as the first index)\n",
    "races = []\n",
    "for _ in range (0, numberOfRaces):\n",
    "    races.append([])\n",
    "\n",
    "# separate data into X and Y, indexed by races (each as an array of horse-in-race entry)\n",
    "for i in range (0, len(raceData)):\n",
    "    # group into races\n",
    "    currentRow = raceData[i]\n",
    "    raceNumber = int(currentRow[-1])\n",
    "    rowData = currentRow[0:-1]\n",
    "    races[raceNumber-1].append(rowData)\n",
    "\n",
    "# convert races into np.arrays\n",
    "races = list(map(lambda x: np.array(x), races))\n",
    "    \n",
    "# split data into different sets\n",
    "np.random.shuffle(races)\n",
    "historicalRaces = races[:separationPoint]\n",
    "futureRaces = races[separationPoint:]\n",
    "\n",
    "# all races ready as an array: races (randomised order)\n",
    "# historical races are used to initialise the GP model within the Bayesian Optimiser\n",
    "# future races are used to simulate the selection performed by the Bayesian Optimiser"
   ]
  },
  {
   "cell_type": "markdown",
   "metadata": {},
   "source": [
    "# Use Modified Bayesian Optimisation"
   ]
  },
  {
   "cell_type": "code",
   "execution_count": 3,
   "metadata": {
    "collapsed": false
   },
   "outputs": [],
   "source": [
    "parameter_bounds = {'win': (0, 1000),\n",
    "                    'horse_rating': (0, 300),\n",
    "                    'horse_weight': (300, 800),\n",
    "                    'handicapped_weight': (0, 100),\n",
    "                    'carried_weight': (0, 100),\n",
    "                    'lane_number': (1, 18),\n",
    "                    'running_one': (1, 18),\n",
    "                    'running_two': (1, 18),\n",
    "                    'placing': (1, 18),\n",
    "                    'length_behind_winner': (0, 100),\n",
    "                   }\n",
    "\n",
    "# create and init a new bayesian optimiser that follows the param limits specified above\n",
    "bayesianOptimiser = BayesianOptimization(parameter_bounds)"
   ]
  },
  {
   "cell_type": "markdown",
   "metadata": {},
   "source": [
    "## Define Kernel, Kappa, Acquisition Function, Batch Size, etc."
   ]
  },
  {
   "cell_type": "code",
   "execution_count": 4,
   "metadata": {
    "collapsed": false
   },
   "outputs": [],
   "source": [
    "acquisitionFunctionFlag = 'poi' # poi (probability of improvement) | ucb (upper confidence bound) | ei (expected improvement)\n",
    "kappa = 2.576\n",
    "xi = 0.0\n",
    "theta0 = 0.02\n",
    "nugget = 0.01\n",
    "\n",
    "bayesianOptimiser.setup(acquisitionFunctionFlag, kappa, xi)"
   ]
  },
  {
   "cell_type": "markdown",
   "metadata": {},
   "source": [
    "## Initialise GP Model with Historical Data"
   ]
  },
  {
   "cell_type": "code",
   "execution_count": 5,
   "metadata": {
    "collapsed": false
   },
   "outputs": [],
   "source": [
    "# strip historical races\n",
    "historicalHorses = []\n",
    "\n",
    "for race in historicalRaces:\n",
    "    for horse in race:\n",
    "        historicalHorses.append(horse)\n",
    "        \n",
    "bayesianOptimiser.initialize(np.vstack(historicalHorses))"
   ]
  },
  {
   "cell_type": "markdown",
   "metadata": {},
   "source": [
    "## Iterate for n Rounds (Races Allowed to Observe)"
   ]
  },
  {
   "cell_type": "code",
   "execution_count": 6,
   "metadata": {
    "collapsed": false,
    "scrolled": false
   },
   "outputs": [],
   "source": [
    "# can only select from n sets of races, each time picking 1 race to watch\n",
    "# after watching n races, predict for a race and place a bet ... see if successful ...\n",
    "splitRatio = 0.5\n",
    "splitPoint = int(splitRatio * (len(futureRaces) - 1))\n",
    "np.random.shuffle(futureRaces)\n",
    "trainRaces = futureRaces[:splitPoint]\n",
    "testRaces = np.array(futureRaces[splitPoint:])\n",
    "\n",
    "# group training races into sets/batches\n",
    "batchSize = 3\n",
    "split_points = range(batchSize, len(trainRaces), batchSize)\n",
    "batchedTrainRaces = np.split(trainRaces, split_points)\n",
    "# print(len(batchedTrainRaces))\n",
    "\n",
    "# sums =0\n",
    "# for i in range(len(batchedTrainRaces)) :\n",
    "#     for ii in range(len(batchedTrainRaces[i])) :\n",
    "#         sums += len(batchedTrainRaces[i][ii])\n",
    "# print(sums)\n"
   ]
  },
  {
   "cell_type": "code",
   "execution_count": null,
   "metadata": {
    "collapsed": false
   },
   "outputs": [
    {
     "name": "stdout",
     "output_type": "stream",
     "text": [
      "\u001b[31mBayesian Optimization\u001b[0m\n",
      "\u001b[94m----------------------------------------------------------------------------------------------------------------------------------------------------------------------------------------------------------\u001b[0m\n",
      " Step |   Time |      Value |   carried_weight |   handicapped_weight |   horse_rating |   horse_weight |   lane_number |   length_behind_winner |   placing |   running_one |   running_two |       win | \n",
      "    1 | 00m01s | \u001b[35m  16.75552\u001b[0m | \u001b[32m          0.0000\u001b[0m | \u001b[32m             55.0000\u001b[0m | \u001b[32m        1.0000\u001b[0m | \u001b[32m       55.0000\u001b[0m | \u001b[32m       1.0000\u001b[0m | \u001b[32m               55.0000\u001b[0m | \u001b[32m   1.0000\u001b[0m | \u001b[32m       2.0000\u001b[0m | \u001b[32m     551.0000\u001b[0m | \u001b[32m  17.0000\u001b[0m | \n",
      "    2 | 00m00s |   16.71225 |           1.0000 |              55.5000 |         2.0000 |        55.5000 |        3.0000 |                56.0000 |    3.0000 |       11.0000 |      538.0000 |   23.0000 | \n",
      "    3 | 00m00s |   16.68183 |           1.8000 |              55.0000 |         3.0000 |        56.0000 |        9.0000 |                57.0000 |    9.0000 |        5.0000 |      473.0000 |  238.0000 | \n",
      "    4 | 00m00s |   16.66667 |           2.3000 |              51.5000 |         4.0000 |        51.0000 |        7.0000 |                47.0000 |    7.0000 |       10.0000 |      499.0000 |  149.0000 | \n",
      "    5 | 00m00s |   16.65153 |           2.6000 |              48.0000 |         5.0000 |        50.0000 |        6.0000 |                45.0000 |    8.0000 |        6.0000 |      507.0000 |  260.0000 | \n",
      "    6 | 00m00s |   16.61130 |           3.6000 |              56.0000 |         6.0000 |        58.0000 |        2.0000 |                61.0000 |    2.0000 |        3.0000 |      474.0000 |   30.0000 | \n",
      "    7 | 00m00s |   16.56377 |           4.9000 |              53.0000 |         7.0000 |        53.0000 |        8.0000 |                51.0000 |    6.0000 |        4.0000 |      481.0000 |   49.0000 | \n",
      "    8 | 00m00s |   16.54882 |           5.4000 |              50.5000 |         8.0000 |        53.5000 |        4.0000 |                52.0000 |    5.0000 |        7.0000 |      482.0000 |   59.0000 | \n",
      "    9 | 00m00s |   16.54384 |           5.5000 |              56.5000 |         9.0000 |        56.5000 |       11.0000 |                58.0000 |   11.0000 |        8.0000 |      517.0000 |   36.0000 | \n",
      "   10 | 00m00s |   16.44983 |           7.8000 |              55.5000 |        10.0000 |        55.5000 |        5.0000 |                56.0000 |    4.0000 |        1.0000 |      521.0000 |   34.0000 | \n",
      "   11 | 00m00s |   16.37880 |           9.6000 |              50.5000 |        11.0000 |        51.5000 |       10.0000 |                48.0000 |   10.0000 |        9.0000 |      502.0000 |  147.0000 | \n",
      "   12 | 00m01s | \u001b[35m  17.01404\u001b[0m | \u001b[32m          0.0000\u001b[0m | \u001b[32m             57.5000\u001b[0m | \u001b[32m        1.0000\u001b[0m | \u001b[32m       57.5000\u001b[0m | \u001b[32m       1.0000\u001b[0m | \u001b[32m               59.0000\u001b[0m | \u001b[32m   1.0000\u001b[0m | \u001b[32m      10.0000\u001b[0m | \u001b[32m     491.0000\u001b[0m | \u001b[32m  12.0000\u001b[0m | \n",
      "   13 | 00m00s |   16.85157 |           4.0000 |              56.0000 |         2.0000 |        56.0000 |        6.0000 |                56.0000 |    5.0000 |        6.0000 |      525.0000 |   12.0000 | \n",
      "   14 | 00m00s |   16.83974 |           4.5000 |              51.5000 |         3.0000 |        50.5000 |        3.0000 |                45.0000 |    3.0000 |        3.0000 |      439.0000 |   56.0000 | \n",
      "   15 | 00m00s |   16.82557 |           5.0000 |              54.5000 |         4.0000 |        58.5000 |        8.0000 |                61.0000 |    7.0000 |        1.0000 |      531.0000 |   36.0000 | \n",
      "   16 | 00m00s |   16.80908 |           5.5000 |              50.5000 |         5.0000 |        50.5000 |        2.0000 |                45.0000 |    2.0000 |        9.0000 |      474.0000 |  161.0000 | \n",
      "   17 | 00m00s |   16.76446 |           6.8000 |              57.5000 |         6.0000 |        57.5000 |        4.0000 |                59.0000 |    4.0000 |        7.0000 |      486.0000 |   57.0000 | \n",
      "   18 | 00m00s |   16.70379 |           8.3000 |              54.0000 |         7.0000 |        54.0000 |       10.0000 |                52.0000 |    8.0000 |        5.0000 |      509.0000 |  136.0000 | \n",
      "   19 | 00m00s |   16.56543 |          12.1000 |              55.5000 |         8.0000 |        55.5000 |        5.0000 |                55.0000 |    6.0000 |        2.0000 |      561.0000 |  155.0000 | \n",
      "   20 | 00m00s |   16.44061 |          15.4000 |              55.5000 |         9.0000 |        55.5000 |        7.0000 |                55.0000 |    9.0000 |        8.0000 |      501.0000 |  314.0000 | \n",
      "   21 | 00m00s |   16.38449 |          16.9000 |              51.5000 |        10.0000 |        51.0000 |        9.0000 |                46.0000 |   10.0000 |        4.0000 |      522.0000 |  176.0000 | \n",
      "   22 | 00m02s | \u001b[35m  17.05999\u001b[0m | \u001b[32m          0.0000\u001b[0m | \u001b[32m             52.5000\u001b[0m | \u001b[32m        1.0000\u001b[0m | \u001b[32m       52.5000\u001b[0m | \u001b[32m       6.0000\u001b[0m | \u001b[32m               51.0000\u001b[0m | \u001b[32m   7.0000\u001b[0m | \u001b[32m       4.0000\u001b[0m | \u001b[32m     471.0000\u001b[0m | \u001b[32m 126.0000\u001b[0m | \n",
      "   23 | 00m00s |   16.98273 |           2.0000 |              58.0000 |         2.0000 |        58.0000 |       11.0000 |                55.0000 |    9.0000 |       10.0000 |      533.0000 |   74.0000 | \n",
      "   24 | 00m00s |   16.96593 |           2.5000 |              52.5000 |         3.0000 |        52.5000 |        9.0000 |                49.0000 |    8.0000 |       11.0000 |      532.0000 |   20.0000 | \n",
      "   25 | 00m00s |   16.92286 |           3.5000 |              55.0000 |         4.0000 |        55.0000 |        5.0000 |                 0.0000 |    3.0000 |        2.0000 |      538.0000 |  182.0000 | \n",
      "   26 | 00m00s |   16.91809 |           3.7000 |              52.5000 |         5.0000 |        52.5000 |        4.0000 |                51.0000 |    4.0000 |        7.0000 |      478.0000 |   48.0000 | \n",
      "   27 | 00m00s |   16.91570 |           3.8000 |              58.0000 |         6.0000 |        58.0000 |        3.0000 |                56.0000 |    5.0000 |        5.0000 |      504.0000 |   28.0000 | \n",
      "   28 | 00m00s |   16.90855 |           4.0000 |              52.5000 |         7.0000 |        52.5000 |        8.0000 |                52.0000 |    6.0000 |        8.0000 |      499.0000 |   27.0000 | \n",
      "   29 | 00m00s |   16.90617 |           4.1000 |              55.0000 |         8.0000 |        55.0000 |        2.0000 |                 0.0000 |    2.0000 |        6.0000 |      524.0000 |   31.0000 | \n",
      "   30 | 00m00s |   16.84447 |           5.6000 |              55.0000 |         9.0000 |        55.0000 |        1.0000 |                50.0000 |    1.0000 |        1.0000 |      534.0000 |  229.0000 | \n",
      "   31 | 00m00s |   16.76914 |           7.6000 |              52.5000 |        10.0000 |        52.5000 |        7.0000 |                53.0000 |   11.0000 |        3.0000 |      450.0000 |   24.0000 | \n",
      "   32 | 00m00s |   16.76446 |           7.7000 |              58.0000 |        11.0000 |        58.0000 |       10.0000 |                45.0000 |   10.0000 |        9.0000 |      459.0000 |  372.0000 | \n"
     ]
    },
    {
     "name": "stderr",
     "output_type": "stream",
     "text": [
      "/usr/local/lib/python3.5/site-packages/sklearn/gaussian_process/gpr.py:308: UserWarning: Predicted variances smaller than 0. Setting those variances to 0.\n",
      "  warnings.warn(\"Predicted variances smaller than 0. \"\n"
     ]
    },
    {
     "name": "stdout",
     "output_type": "stream",
     "text": [
      "   33 | 00m02s |   16.73040 |           0.0000 |              55.0000 |         1.0000 |        57.0000 |        3.0000 |                43.0000 |    3.0000 |        7.0000 |      479.0000 |   50.0000 | \n",
      "   34 | 00m00s |   16.66270 |           2.0000 |              57.0000 |         2.0000 |        57.0000 |        5.0000 |                43.0000 |    4.0000 |        5.0000 |      526.0000 |   20.0000 | \n",
      "   35 | 00m00s |   16.62313 |           3.3000 |              56.0000 |         3.0000 |        56.0000 |       10.0000 |                41.0000 |   11.0000 |       11.0000 |      471.0000 |  242.0000 | \n",
      "   36 | 00m00s |   16.62116 |           3.4000 |              56.0000 |         4.0000 |        56.0000 |        7.0000 |                41.0000 |    7.0000 |        9.0000 |      513.0000 |   37.0000 | \n",
      "   37 | 00m00s |   16.58964 |           4.4000 |              52.0000 |         5.0000 |        55.0000 |        6.0000 |                39.0000 |    6.0000 |        8.0000 |      484.0000 |   50.0000 | \n",
      "   38 | 00m00s |   16.58178 |           4.7000 |              56.5000 |         6.0000 |        56.5000 |        2.0000 |                42.0000 |    2.0000 |       10.0000 |      441.0000 |   27.0000 | \n",
      "   39 | 00m00s |   16.57001 |           5.2000 |              57.0000 |         7.0000 |        57.0000 |        8.0000 |                43.0000 |    8.0000 |        2.0000 |      493.0000 |   30.0000 | \n",
      "   40 | 00m00s |   16.56413 |           5.4000 |              55.5000 |         8.0000 |        55.5000 |        4.0000 |                40.0000 |    5.0000 |        6.0000 |      497.0000 |  404.0000 | \n",
      "   41 | 00m00s |   16.53674 |           6.2000 |              56.0000 |         9.0000 |        56.0000 |        9.0000 |                41.0000 |    9.0000 |       12.0000 |      502.0000 |   41.0000 | \n",
      "   42 | 00m00s |   16.51917 |           6.7000 |              54.5000 |        10.0000 |        55.5000 |        1.0000 |                40.0000 |    1.0000 |        3.0000 |      568.0000 |  219.0000 | \n",
      "   43 | 00m00s |   16.39536 |          10.7000 |              55.0000 |        11.0000 |        55.0000 |       11.0000 |                39.0000 |   10.0000 |        1.0000 |      488.0000 |  187.0000 | \n",
      "   44 | 00m00s |   16.37235 |          11.5000 |              57.0000 |        12.0000 |        57.0000 |       12.0000 |                43.0000 |   12.0000 |        4.0000 |      540.0000 |   43.0000 | \n",
      "   45 | 00m02s | \u001b[35m  17.13307\u001b[0m | \u001b[32m          0.0000\u001b[0m | \u001b[32m             55.5000\u001b[0m | \u001b[32m        1.0000\u001b[0m | \u001b[32m       55.5000\u001b[0m | \u001b[32m       4.0000\u001b[0m | \u001b[32m               56.0000\u001b[0m | \u001b[32m   2.0000\u001b[0m | \u001b[32m       3.0000\u001b[0m | \u001b[32m     557.0000\u001b[0m | \u001b[32m   9.0000\u001b[0m | \n",
      "   46 | 00m00s |   17.09645 |           1.0000 |              51.5000 |         2.0000 |        51.5000 |        6.0000 |                48.0000 |    4.0000 |        7.0000 |      464.0000 |   64.0000 | \n",
      "   47 | 00m00s |   16.95634 |           4.5000 |              50.5000 |         3.0000 |        50.0000 |       11.0000 |                45.0000 |   10.0000 |       10.0000 |      484.0000 |   80.0000 | \n",
      "   48 | 00m00s |   16.95155 |           4.6000 |              58.0000 |         4.0000 |        58.0000 |        1.0000 |                61.0000 |    1.0000 |       11.0000 |      503.0000 |   23.0000 | \n",
      "   49 | 00m00s |   16.91094 |           5.6000 |              55.5000 |         5.0000 |        55.5000 |        7.0000 |                56.0000 |    7.0000 |        4.0000 |      512.0000 |  123.0000 | \n",
      "   50 | 00m00s |   16.90379 |           5.8000 |              54.5000 |         6.0000 |        57.5000 |        2.0000 |                60.0000 |    3.0000 |        8.0000 |      476.0000 |  352.0000 | \n",
      "   51 | 00m00s |   16.85867 |           7.1000 |              55.0000 |         7.0000 |        55.0000 |        9.0000 |                55.0000 |    8.0000 |        6.0000 |      512.0000 |  199.0000 | \n",
      "   52 | 00m00s |   16.83974 |           7.6000 |              49.0000 |         8.0000 |        52.0000 |       10.0000 |                49.0000 |   11.0000 |       12.0000 |      519.0000 |  101.0000 | \n",
      "   53 | 00m00s |   16.82557 |           8.1000 |              57.0000 |         9.0000 |        57.0000 |        5.0000 |                59.0000 |    6.0000 |        1.0000 |      502.0000 |   38.0000 | \n",
      "   54 | 00m00s |   16.81143 |           8.6000 |              52.0000 |        10.0000 |        53.0000 |        8.0000 |                51.0000 |    9.0000 |        9.0000 |      511.0000 |  409.0000 | \n",
      "   55 | 00m00s |   16.59063 |          14.4000 |              49.5000 |        11.0000 |        50.0000 |       12.0000 |                45.0000 |   12.0000 |        5.0000 |      426.0000 |  650.0000 | \n",
      "   56 | 00m00s |   16.57001 |          14.9000 |              54.0000 |        12.0000 |        54.0000 |        3.0000 |                53.0000 |    5.0000 |        2.0000 |      502.0000 |   68.0000 | \n"
     ]
    },
    {
     "ename": "KeyboardInterrupt",
     "evalue": "",
     "output_type": "error",
     "traceback": [
      "\u001b[0;31m---------------------------------------------------------------------------\u001b[0m",
      "\u001b[0;31mKeyboardInterrupt\u001b[0m                         Traceback (most recent call last)",
      "\u001b[0;32m<ipython-input-7-1feeaaba879b>\u001b[0m in \u001b[0;36m<module>\u001b[0;34m()\u001b[0m\n\u001b[1;32m      1\u001b[0m \u001b[0;31m# call minimise to optimise\u001b[0m\u001b[0;34m\u001b[0m\u001b[0;34m\u001b[0m\u001b[0m\n\u001b[0;32m----> 2\u001b[0;31m \u001b[0mbayesianOptimiser\u001b[0m\u001b[0;34m.\u001b[0m\u001b[0mminimize\u001b[0m\u001b[0;34m(\u001b[0m\u001b[0mnp\u001b[0m\u001b[0;34m.\u001b[0m\u001b[0marray\u001b[0m\u001b[0;34m(\u001b[0m\u001b[0mbatchedTrainRaces\u001b[0m\u001b[0;34m)\u001b[0m\u001b[0;34m)\u001b[0m\u001b[0;34m\u001b[0m\u001b[0m\n\u001b[0m\u001b[1;32m      3\u001b[0m \u001b[0;34m\u001b[0m\u001b[0m\n\u001b[1;32m      4\u001b[0m \u001b[0;31m# optimal input to be used to update GP model\u001b[0m\u001b[0;34m\u001b[0m\u001b[0;34m\u001b[0m\u001b[0m\n\u001b[1;32m      5\u001b[0m \u001b[0mprint\u001b[0m\u001b[0;34m(\u001b[0m\u001b[0mbayesianOptimiser\u001b[0m\u001b[0;34m.\u001b[0m\u001b[0mres\u001b[0m\u001b[0;34m[\u001b[0m\u001b[0;34m'max'\u001b[0m\u001b[0;34m]\u001b[0m\u001b[0;34m)\u001b[0m\u001b[0;34m\u001b[0m\u001b[0m\n",
      "\u001b[0;32m/Users/Joey/NUS/Year 5 Sem 1/CS4246/Project 2/Code/bayes_opt/bayesian_optimization.py\u001b[0m in \u001b[0;36mminimize\u001b[0;34m(self, n_batches)\u001b[0m\n\u001b[1;32m    185\u001b[0m             \u001b[0;31m# Update GP\u001b[0m\u001b[0;34m\u001b[0m\u001b[0;34m\u001b[0m\u001b[0m\n\u001b[1;32m    186\u001b[0m             \u001b[0munique_rows\u001b[0m \u001b[0;34m=\u001b[0m \u001b[0mget_unique_rows\u001b[0m\u001b[0;34m(\u001b[0m\u001b[0mself\u001b[0m\u001b[0;34m.\u001b[0m\u001b[0mX\u001b[0m\u001b[0;34m)\u001b[0m \u001b[0;34m-\u001b[0m \u001b[0;36m1\u001b[0m\u001b[0;34m\u001b[0m\u001b[0m\n\u001b[0;32m--> 187\u001b[0;31m             \u001b[0mself\u001b[0m\u001b[0;34m.\u001b[0m\u001b[0mgp\u001b[0m\u001b[0;34m.\u001b[0m\u001b[0mfit\u001b[0m\u001b[0;34m(\u001b[0m\u001b[0mself\u001b[0m\u001b[0;34m.\u001b[0m\u001b[0mX\u001b[0m\u001b[0;34m[\u001b[0m\u001b[0munique_rows\u001b[0m\u001b[0;34m]\u001b[0m\u001b[0;34m,\u001b[0m \u001b[0mself\u001b[0m\u001b[0;34m.\u001b[0m\u001b[0mY\u001b[0m\u001b[0;34m[\u001b[0m\u001b[0munique_rows\u001b[0m\u001b[0;34m]\u001b[0m\u001b[0;34m)\u001b[0m\u001b[0;34m\u001b[0m\u001b[0m\n\u001b[0m\u001b[1;32m    188\u001b[0m \u001b[0;34m\u001b[0m\u001b[0m\n\u001b[1;32m    189\u001b[0m             \u001b[0;31m# Update maximum value to search for next probe point.\u001b[0m\u001b[0;34m\u001b[0m\u001b[0;34m\u001b[0m\u001b[0m\n",
      "\u001b[0;32m/usr/local/lib/python3.5/site-packages/sklearn/gaussian_process/gpr.py\u001b[0m in \u001b[0;36mfit\u001b[0;34m(self, X, y)\u001b[0m\n\u001b[1;32m    215\u001b[0m                     optima.append(\n\u001b[1;32m    216\u001b[0m                         self._constrained_optimization(obj_func, theta_initial,\n\u001b[0;32m--> 217\u001b[0;31m                                                        bounds))\n\u001b[0m\u001b[1;32m    218\u001b[0m             \u001b[0;31m# Select result from run with minimal (negative) log-marginal\u001b[0m\u001b[0;34m\u001b[0m\u001b[0;34m\u001b[0m\u001b[0m\n\u001b[1;32m    219\u001b[0m             \u001b[0;31m# likelihood\u001b[0m\u001b[0;34m\u001b[0m\u001b[0;34m\u001b[0m\u001b[0m\n",
      "\u001b[0;32m/usr/local/lib/python3.5/site-packages/sklearn/gaussian_process/gpr.py\u001b[0m in \u001b[0;36m_constrained_optimization\u001b[0;34m(self, obj_func, initial_theta, bounds)\u001b[0m\n\u001b[1;32m    422\u001b[0m         \u001b[0;32mif\u001b[0m \u001b[0mself\u001b[0m\u001b[0;34m.\u001b[0m\u001b[0moptimizer\u001b[0m \u001b[0;34m==\u001b[0m \u001b[0;34m\"fmin_l_bfgs_b\"\u001b[0m\u001b[0;34m:\u001b[0m\u001b[0;34m\u001b[0m\u001b[0m\n\u001b[1;32m    423\u001b[0m             \u001b[0mtheta_opt\u001b[0m\u001b[0;34m,\u001b[0m \u001b[0mfunc_min\u001b[0m\u001b[0;34m,\u001b[0m \u001b[0mconvergence_dict\u001b[0m \u001b[0;34m=\u001b[0m\u001b[0;31m \u001b[0m\u001b[0;31m\\\u001b[0m\u001b[0;34m\u001b[0m\u001b[0m\n\u001b[0;32m--> 424\u001b[0;31m                 \u001b[0mfmin_l_bfgs_b\u001b[0m\u001b[0;34m(\u001b[0m\u001b[0mobj_func\u001b[0m\u001b[0;34m,\u001b[0m \u001b[0minitial_theta\u001b[0m\u001b[0;34m,\u001b[0m \u001b[0mbounds\u001b[0m\u001b[0;34m=\u001b[0m\u001b[0mbounds\u001b[0m\u001b[0;34m)\u001b[0m\u001b[0;34m\u001b[0m\u001b[0m\n\u001b[0m\u001b[1;32m    425\u001b[0m             \u001b[0;32mif\u001b[0m \u001b[0mconvergence_dict\u001b[0m\u001b[0;34m[\u001b[0m\u001b[0;34m\"warnflag\"\u001b[0m\u001b[0;34m]\u001b[0m \u001b[0;34m!=\u001b[0m \u001b[0;36m0\u001b[0m\u001b[0;34m:\u001b[0m\u001b[0;34m\u001b[0m\u001b[0m\n\u001b[1;32m    426\u001b[0m                 warnings.warn(\"fmin_l_bfgs_b terminated abnormally with the \"\n",
      "\u001b[0;32m/usr/local/lib/python3.5/site-packages/scipy/optimize/lbfgsb.py\u001b[0m in \u001b[0;36mfmin_l_bfgs_b\u001b[0;34m(func, x0, fprime, args, approx_grad, bounds, m, factr, pgtol, epsilon, iprint, maxfun, maxiter, disp, callback, maxls)\u001b[0m\n\u001b[1;32m    191\u001b[0m \u001b[0;34m\u001b[0m\u001b[0m\n\u001b[1;32m    192\u001b[0m     res = _minimize_lbfgsb(fun, x0, args=args, jac=jac, bounds=bounds,\n\u001b[0;32m--> 193\u001b[0;31m                            **opts)\n\u001b[0m\u001b[1;32m    194\u001b[0m     d = {'grad': res['jac'],\n\u001b[1;32m    195\u001b[0m          \u001b[0;34m'task'\u001b[0m\u001b[0;34m:\u001b[0m \u001b[0mres\u001b[0m\u001b[0;34m[\u001b[0m\u001b[0;34m'message'\u001b[0m\u001b[0;34m]\u001b[0m\u001b[0;34m,\u001b[0m\u001b[0;34m\u001b[0m\u001b[0m\n",
      "\u001b[0;32m/usr/local/lib/python3.5/site-packages/scipy/optimize/lbfgsb.py\u001b[0m in \u001b[0;36m_minimize_lbfgsb\u001b[0;34m(fun, x0, args, jac, bounds, disp, maxcor, ftol, gtol, eps, maxfun, maxiter, iprint, callback, maxls, **unknown_options)\u001b[0m\n\u001b[1;32m    326\u001b[0m             \u001b[0;31m# until the completion of the current minimization iteration.\u001b[0m\u001b[0;34m\u001b[0m\u001b[0;34m\u001b[0m\u001b[0m\n\u001b[1;32m    327\u001b[0m             \u001b[0;31m# Overwrite f and g:\u001b[0m\u001b[0;34m\u001b[0m\u001b[0;34m\u001b[0m\u001b[0m\n\u001b[0;32m--> 328\u001b[0;31m             \u001b[0mf\u001b[0m\u001b[0;34m,\u001b[0m \u001b[0mg\u001b[0m \u001b[0;34m=\u001b[0m \u001b[0mfunc_and_grad\u001b[0m\u001b[0;34m(\u001b[0m\u001b[0mx\u001b[0m\u001b[0;34m)\u001b[0m\u001b[0;34m\u001b[0m\u001b[0m\n\u001b[0m\u001b[1;32m    329\u001b[0m         \u001b[0;32melif\u001b[0m \u001b[0mtask_str\u001b[0m\u001b[0;34m.\u001b[0m\u001b[0mstartswith\u001b[0m\u001b[0;34m(\u001b[0m\u001b[0;34mb'NEW_X'\u001b[0m\u001b[0;34m)\u001b[0m\u001b[0;34m:\u001b[0m\u001b[0;34m\u001b[0m\u001b[0m\n\u001b[1;32m    330\u001b[0m             \u001b[0;31m# new iteration\u001b[0m\u001b[0;34m\u001b[0m\u001b[0;34m\u001b[0m\u001b[0m\n",
      "\u001b[0;32m/usr/local/lib/python3.5/site-packages/scipy/optimize/lbfgsb.py\u001b[0m in \u001b[0;36mfunc_and_grad\u001b[0;34m(x)\u001b[0m\n\u001b[1;32m    276\u001b[0m     \u001b[0;32melse\u001b[0m\u001b[0;34m:\u001b[0m\u001b[0;34m\u001b[0m\u001b[0m\n\u001b[1;32m    277\u001b[0m         \u001b[0;32mdef\u001b[0m \u001b[0mfunc_and_grad\u001b[0m\u001b[0;34m(\u001b[0m\u001b[0mx\u001b[0m\u001b[0;34m)\u001b[0m\u001b[0;34m:\u001b[0m\u001b[0;34m\u001b[0m\u001b[0m\n\u001b[0;32m--> 278\u001b[0;31m             \u001b[0mf\u001b[0m \u001b[0;34m=\u001b[0m \u001b[0mfun\u001b[0m\u001b[0;34m(\u001b[0m\u001b[0mx\u001b[0m\u001b[0;34m,\u001b[0m \u001b[0;34m*\u001b[0m\u001b[0margs\u001b[0m\u001b[0;34m)\u001b[0m\u001b[0;34m\u001b[0m\u001b[0m\n\u001b[0m\u001b[1;32m    279\u001b[0m             \u001b[0mg\u001b[0m \u001b[0;34m=\u001b[0m \u001b[0mjac\u001b[0m\u001b[0;34m(\u001b[0m\u001b[0mx\u001b[0m\u001b[0;34m,\u001b[0m \u001b[0;34m*\u001b[0m\u001b[0margs\u001b[0m\u001b[0;34m)\u001b[0m\u001b[0;34m\u001b[0m\u001b[0m\n\u001b[1;32m    280\u001b[0m             \u001b[0;32mreturn\u001b[0m \u001b[0mf\u001b[0m\u001b[0;34m,\u001b[0m \u001b[0mg\u001b[0m\u001b[0;34m\u001b[0m\u001b[0m\n",
      "\u001b[0;32m/usr/local/lib/python3.5/site-packages/scipy/optimize/optimize.py\u001b[0m in \u001b[0;36mfunction_wrapper\u001b[0;34m(*wrapper_args)\u001b[0m\n\u001b[1;32m    290\u001b[0m     \u001b[0;32mdef\u001b[0m \u001b[0mfunction_wrapper\u001b[0m\u001b[0;34m(\u001b[0m\u001b[0;34m*\u001b[0m\u001b[0mwrapper_args\u001b[0m\u001b[0;34m)\u001b[0m\u001b[0;34m:\u001b[0m\u001b[0;34m\u001b[0m\u001b[0m\n\u001b[1;32m    291\u001b[0m         \u001b[0mncalls\u001b[0m\u001b[0;34m[\u001b[0m\u001b[0;36m0\u001b[0m\u001b[0;34m]\u001b[0m \u001b[0;34m+=\u001b[0m \u001b[0;36m1\u001b[0m\u001b[0;34m\u001b[0m\u001b[0m\n\u001b[0;32m--> 292\u001b[0;31m         \u001b[0;32mreturn\u001b[0m \u001b[0mfunction\u001b[0m\u001b[0;34m(\u001b[0m\u001b[0;34m*\u001b[0m\u001b[0;34m(\u001b[0m\u001b[0mwrapper_args\u001b[0m \u001b[0;34m+\u001b[0m \u001b[0margs\u001b[0m\u001b[0;34m)\u001b[0m\u001b[0;34m)\u001b[0m\u001b[0;34m\u001b[0m\u001b[0m\n\u001b[0m\u001b[1;32m    293\u001b[0m \u001b[0;34m\u001b[0m\u001b[0m\n\u001b[1;32m    294\u001b[0m     \u001b[0;32mreturn\u001b[0m \u001b[0mncalls\u001b[0m\u001b[0;34m,\u001b[0m \u001b[0mfunction_wrapper\u001b[0m\u001b[0;34m\u001b[0m\u001b[0m\n",
      "\u001b[0;32m/usr/local/lib/python3.5/site-packages/scipy/optimize/optimize.py\u001b[0m in \u001b[0;36m__call__\u001b[0;34m(self, x, *args)\u001b[0m\n\u001b[1;32m     61\u001b[0m     \u001b[0;32mdef\u001b[0m \u001b[0m__call__\u001b[0m\u001b[0;34m(\u001b[0m\u001b[0mself\u001b[0m\u001b[0;34m,\u001b[0m \u001b[0mx\u001b[0m\u001b[0;34m,\u001b[0m \u001b[0;34m*\u001b[0m\u001b[0margs\u001b[0m\u001b[0;34m)\u001b[0m\u001b[0;34m:\u001b[0m\u001b[0;34m\u001b[0m\u001b[0m\n\u001b[1;32m     62\u001b[0m         \u001b[0mself\u001b[0m\u001b[0;34m.\u001b[0m\u001b[0mx\u001b[0m \u001b[0;34m=\u001b[0m \u001b[0mnumpy\u001b[0m\u001b[0;34m.\u001b[0m\u001b[0masarray\u001b[0m\u001b[0;34m(\u001b[0m\u001b[0mx\u001b[0m\u001b[0;34m)\u001b[0m\u001b[0;34m.\u001b[0m\u001b[0mcopy\u001b[0m\u001b[0;34m(\u001b[0m\u001b[0;34m)\u001b[0m\u001b[0;34m\u001b[0m\u001b[0m\n\u001b[0;32m---> 63\u001b[0;31m         \u001b[0mfg\u001b[0m \u001b[0;34m=\u001b[0m \u001b[0mself\u001b[0m\u001b[0;34m.\u001b[0m\u001b[0mfun\u001b[0m\u001b[0;34m(\u001b[0m\u001b[0mx\u001b[0m\u001b[0;34m,\u001b[0m \u001b[0;34m*\u001b[0m\u001b[0margs\u001b[0m\u001b[0;34m)\u001b[0m\u001b[0;34m\u001b[0m\u001b[0m\n\u001b[0m\u001b[1;32m     64\u001b[0m         \u001b[0mself\u001b[0m\u001b[0;34m.\u001b[0m\u001b[0mjac\u001b[0m \u001b[0;34m=\u001b[0m \u001b[0mfg\u001b[0m\u001b[0;34m[\u001b[0m\u001b[0;36m1\u001b[0m\u001b[0;34m]\u001b[0m\u001b[0;34m\u001b[0m\u001b[0m\n\u001b[1;32m     65\u001b[0m         \u001b[0;32mreturn\u001b[0m \u001b[0mfg\u001b[0m\u001b[0;34m[\u001b[0m\u001b[0;36m0\u001b[0m\u001b[0;34m]\u001b[0m\u001b[0;34m\u001b[0m\u001b[0m\n",
      "\u001b[0;32m/usr/local/lib/python3.5/site-packages/sklearn/gaussian_process/gpr.py\u001b[0m in \u001b[0;36mobj_func\u001b[0;34m(theta, eval_gradient)\u001b[0m\n\u001b[1;32m    192\u001b[0m                 \u001b[0;32mif\u001b[0m \u001b[0meval_gradient\u001b[0m\u001b[0;34m:\u001b[0m\u001b[0;34m\u001b[0m\u001b[0m\n\u001b[1;32m    193\u001b[0m                     lml, grad = self.log_marginal_likelihood(\n\u001b[0;32m--> 194\u001b[0;31m                         theta, eval_gradient=True)\n\u001b[0m\u001b[1;32m    195\u001b[0m                     \u001b[0;32mreturn\u001b[0m \u001b[0;34m-\u001b[0m\u001b[0mlml\u001b[0m\u001b[0;34m,\u001b[0m \u001b[0;34m-\u001b[0m\u001b[0mgrad\u001b[0m\u001b[0;34m\u001b[0m\u001b[0m\n\u001b[1;32m    196\u001b[0m                 \u001b[0;32melse\u001b[0m\u001b[0;34m:\u001b[0m\u001b[0;34m\u001b[0m\u001b[0m\n",
      "\u001b[0;32m/usr/local/lib/python3.5/site-packages/sklearn/gaussian_process/gpr.py\u001b[0m in \u001b[0;36mlog_marginal_likelihood\u001b[0;34m(self, theta, eval_gradient)\u001b[0m\n\u001b[1;32m    380\u001b[0m \u001b[0;34m\u001b[0m\u001b[0m\n\u001b[1;32m    381\u001b[0m         \u001b[0;32mif\u001b[0m \u001b[0meval_gradient\u001b[0m\u001b[0;34m:\u001b[0m\u001b[0;34m\u001b[0m\u001b[0m\n\u001b[0;32m--> 382\u001b[0;31m             \u001b[0mK\u001b[0m\u001b[0;34m,\u001b[0m \u001b[0mK_gradient\u001b[0m \u001b[0;34m=\u001b[0m \u001b[0mkernel\u001b[0m\u001b[0;34m(\u001b[0m\u001b[0mself\u001b[0m\u001b[0;34m.\u001b[0m\u001b[0mX_train_\u001b[0m\u001b[0;34m,\u001b[0m \u001b[0meval_gradient\u001b[0m\u001b[0;34m=\u001b[0m\u001b[0;32mTrue\u001b[0m\u001b[0;34m)\u001b[0m\u001b[0;34m\u001b[0m\u001b[0m\n\u001b[0m\u001b[1;32m    383\u001b[0m         \u001b[0;32melse\u001b[0m\u001b[0;34m:\u001b[0m\u001b[0;34m\u001b[0m\u001b[0m\n\u001b[1;32m    384\u001b[0m             \u001b[0mK\u001b[0m \u001b[0;34m=\u001b[0m \u001b[0mkernel\u001b[0m\u001b[0;34m(\u001b[0m\u001b[0mself\u001b[0m\u001b[0;34m.\u001b[0m\u001b[0mX_train_\u001b[0m\u001b[0;34m)\u001b[0m\u001b[0;34m\u001b[0m\u001b[0m\n",
      "\u001b[0;32m/usr/local/lib/python3.5/site-packages/sklearn/gaussian_process/kernels.py\u001b[0m in \u001b[0;36m__call__\u001b[0;34m(self, X, Y, eval_gradient)\u001b[0m\n\u001b[1;32m   1328\u001b[0m         \u001b[0;32melif\u001b[0m \u001b[0mself\u001b[0m\u001b[0;34m.\u001b[0m\u001b[0mnu\u001b[0m \u001b[0;34m==\u001b[0m \u001b[0;36m1.5\u001b[0m\u001b[0;34m:\u001b[0m\u001b[0;34m\u001b[0m\u001b[0m\n\u001b[1;32m   1329\u001b[0m             \u001b[0mK\u001b[0m \u001b[0;34m=\u001b[0m \u001b[0mdists\u001b[0m \u001b[0;34m*\u001b[0m \u001b[0mmath\u001b[0m\u001b[0;34m.\u001b[0m\u001b[0msqrt\u001b[0m\u001b[0;34m(\u001b[0m\u001b[0;36m3\u001b[0m\u001b[0;34m)\u001b[0m\u001b[0;34m\u001b[0m\u001b[0m\n\u001b[0;32m-> 1330\u001b[0;31m             \u001b[0mK\u001b[0m \u001b[0;34m=\u001b[0m \u001b[0;34m(\u001b[0m\u001b[0;36m1.\u001b[0m \u001b[0;34m+\u001b[0m \u001b[0mK\u001b[0m\u001b[0;34m)\u001b[0m \u001b[0;34m*\u001b[0m \u001b[0mnp\u001b[0m\u001b[0;34m.\u001b[0m\u001b[0mexp\u001b[0m\u001b[0;34m(\u001b[0m\u001b[0;34m-\u001b[0m\u001b[0mK\u001b[0m\u001b[0;34m)\u001b[0m\u001b[0;34m\u001b[0m\u001b[0m\n\u001b[0m\u001b[1;32m   1331\u001b[0m         \u001b[0;32melif\u001b[0m \u001b[0mself\u001b[0m\u001b[0;34m.\u001b[0m\u001b[0mnu\u001b[0m \u001b[0;34m==\u001b[0m \u001b[0;36m2.5\u001b[0m\u001b[0;34m:\u001b[0m\u001b[0;34m\u001b[0m\u001b[0m\n\u001b[1;32m   1332\u001b[0m             \u001b[0mK\u001b[0m \u001b[0;34m=\u001b[0m \u001b[0mdists\u001b[0m \u001b[0;34m*\u001b[0m \u001b[0mmath\u001b[0m\u001b[0;34m.\u001b[0m\u001b[0msqrt\u001b[0m\u001b[0;34m(\u001b[0m\u001b[0;36m5\u001b[0m\u001b[0;34m)\u001b[0m\u001b[0;34m\u001b[0m\u001b[0m\n",
      "\u001b[0;31mKeyboardInterrupt\u001b[0m: "
     ]
    }
   ],
   "source": [
    "# call minimise to optimise\n",
    "bayesianOptimiser.minimize(np.array(batchedTrainRaces))\n",
    "\n",
    "# optimal input to be used to update GP model\n",
    "print(bayesianOptimiser.res['max'])"
   ]
  },
  {
   "cell_type": "code",
   "execution_count": null,
   "metadata": {
    "collapsed": false
   },
   "outputs": [
    {
     "name": "stdout",
     "output_type": "stream",
     "text": [
      "> \u001b[0;32m/usr/local/lib/python3.5/site-packages/sklearn/gaussian_process/kernels.py\u001b[0m(1330)\u001b[0;36m__call__\u001b[0;34m()\u001b[0m\n",
      "\u001b[0;32m   1328 \u001b[0;31m        \u001b[0;32melif\u001b[0m \u001b[0mself\u001b[0m\u001b[0;34m.\u001b[0m\u001b[0mnu\u001b[0m \u001b[0;34m==\u001b[0m \u001b[0;36m1.5\u001b[0m\u001b[0;34m:\u001b[0m\u001b[0;34m\u001b[0m\u001b[0m\n",
      "\u001b[0m\u001b[0;32m   1329 \u001b[0;31m            \u001b[0mK\u001b[0m \u001b[0;34m=\u001b[0m \u001b[0mdists\u001b[0m \u001b[0;34m*\u001b[0m \u001b[0mmath\u001b[0m\u001b[0;34m.\u001b[0m\u001b[0msqrt\u001b[0m\u001b[0;34m(\u001b[0m\u001b[0;36m3\u001b[0m\u001b[0;34m)\u001b[0m\u001b[0;34m\u001b[0m\u001b[0m\n",
      "\u001b[0m\u001b[0;32m-> 1330 \u001b[0;31m            \u001b[0mK\u001b[0m \u001b[0;34m=\u001b[0m \u001b[0;34m(\u001b[0m\u001b[0;36m1.\u001b[0m \u001b[0;34m+\u001b[0m \u001b[0mK\u001b[0m\u001b[0;34m)\u001b[0m \u001b[0;34m*\u001b[0m \u001b[0mnp\u001b[0m\u001b[0;34m.\u001b[0m\u001b[0mexp\u001b[0m\u001b[0;34m(\u001b[0m\u001b[0;34m-\u001b[0m\u001b[0mK\u001b[0m\u001b[0;34m)\u001b[0m\u001b[0;34m\u001b[0m\u001b[0m\n",
      "\u001b[0m\u001b[0;32m   1331 \u001b[0;31m        \u001b[0;32melif\u001b[0m \u001b[0mself\u001b[0m\u001b[0;34m.\u001b[0m\u001b[0mnu\u001b[0m \u001b[0;34m==\u001b[0m \u001b[0;36m2.5\u001b[0m\u001b[0;34m:\u001b[0m\u001b[0;34m\u001b[0m\u001b[0m\n",
      "\u001b[0m\u001b[0;32m   1332 \u001b[0;31m            \u001b[0mK\u001b[0m \u001b[0;34m=\u001b[0m \u001b[0mdists\u001b[0m \u001b[0;34m*\u001b[0m \u001b[0mmath\u001b[0m\u001b[0;34m.\u001b[0m\u001b[0msqrt\u001b[0m\u001b[0;34m(\u001b[0m\u001b[0;36m5\u001b[0m\u001b[0;34m)\u001b[0m\u001b[0;34m\u001b[0m\u001b[0m\n",
      "\u001b[0m\n"
     ]
    }
   ],
   "source": [
    "%debug"
   ]
  },
  {
   "cell_type": "code",
   "execution_count": null,
   "metadata": {
    "collapsed": false
   },
   "outputs": [],
   "source": [
    "print(len(batchedTrainRaces))"
   ]
  },
  {
   "cell_type": "code",
   "execution_count": null,
   "metadata": {
    "collapsed": false
   },
   "outputs": [],
   "source": [
    "%debug"
   ]
  },
  {
   "cell_type": "markdown",
   "metadata": {},
   "source": [
    "### Iterate through Race Profiles (of scheduled / upcoming races)"
   ]
  },
  {
   "cell_type": "code",
   "execution_count": null,
   "metadata": {
    "collapsed": false,
    "scrolled": false
   },
   "outputs": [],
   "source": [
    "print(bayesianOptimiser.res['max'])"
   ]
  },
  {
   "cell_type": "code",
   "execution_count": null,
   "metadata": {
    "collapsed": false
   },
   "outputs": [],
   "source": [
    "print(bayesianOptimiser.res)"
   ]
  },
  {
   "cell_type": "markdown",
   "metadata": {},
   "source": [
    "### Calculate Race Learning Index"
   ]
  },
  {
   "cell_type": "code",
   "execution_count": null,
   "metadata": {
    "collapsed": false
   },
   "outputs": [],
   "source": [
    "# using trained model...\n",
    "gp = bayesianOptimiser.gp\n",
    "\n",
    "# get fitted model\n",
    "for race in testRaces: \n",
    "    print(\"RACE: \", race)\n",
    "    for horse in race:  \n",
    "        horse_timing, sigma = gp.predict(horse[1:], return_std=True)\n",
    "        print(\"HORSE: \", horse[1:])\n",
    "        print(\"HORSE TIMING PREDICTED: \", horse_timing)\n",
    "\n",
    "# predict test set\n"
   ]
  },
  {
   "cell_type": "markdown",
   "metadata": {},
   "source": [
    "### Output Race with Max. Index"
   ]
  },
  {
   "cell_type": "code",
   "execution_count": null,
   "metadata": {
    "collapsed": false
   },
   "outputs": [],
   "source": []
  },
  {
   "cell_type": "markdown",
   "metadata": {},
   "source": [
    "## Predict a Race and Use Decision Function to Determine Whether to Bet"
   ]
  },
  {
   "cell_type": "code",
   "execution_count": null,
   "metadata": {
    "collapsed": true
   },
   "outputs": [],
   "source": []
  },
  {
   "cell_type": "markdown",
   "metadata": {},
   "source": [
    "## Plot Results with Different Params"
   ]
  },
  {
   "cell_type": "code",
   "execution_count": null,
   "metadata": {
    "collapsed": false
   },
   "outputs": [],
   "source": []
  }
 ],
 "metadata": {
  "anaconda-cloud": {},
  "kernelspec": {
   "display_name": "Python 3",
   "language": "python",
   "name": "python3"
  },
  "language_info": {
   "codemirror_mode": {
    "name": "ipython",
    "version": 3
   },
   "file_extension": ".py",
   "mimetype": "text/x-python",
   "name": "python",
   "nbconvert_exporter": "python",
   "pygments_lexer": "ipython3",
   "version": "3.5.2"
  }
 },
 "nbformat": 4,
 "nbformat_minor": 0
}
