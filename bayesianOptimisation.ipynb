{
 "cells": [
  {
   "cell_type": "markdown",
   "metadata": {},
   "source": [
    "# Linking Dependencies"
   ]
  },
  {
   "cell_type": "code",
   "execution_count": null,
   "metadata": {
    "collapsed": false
   },
   "outputs": [],
   "source": [
    "# imports\n",
    "%matplotlib inline\n",
    "import numpy as np\n",
    "import pandas as pd\n",
    "import matplotlib.pyplot as plt\n",
    "import matplotlib\n",
    "from bayes_opt.bayesian_optimization import BayesianOptimization\n",
    "from bayes_opt.helpers import UtilityFunction\n",
    "\n",
    "__all__ = [\"BayesianOptimization\", \"UtilityFunction\"]"
   ]
  },
  {
   "cell_type": "markdown",
   "metadata": {},
   "source": [
    "# Data Input"
   ]
  },
  {
   "cell_type": "code",
   "execution_count": null,
   "metadata": {
    "collapsed": false
   },
   "outputs": [],
   "source": [
    "# read excel file\n",
    "raceDataFrame = pd.read_excel('data.xlsx', sheetname='Sheet1')\n",
    "raceData = np.array(raceDataFrame.values)\n",
    "raceData[np.argsort(raceData[:, 12])]\n",
    "numberOfRaces = int(raceData[len(raceData) - 1][12])\n",
    "proportion = 1/3\n",
    "separationPoint = int(proportion * (numberOfRaces - 1))\n",
    "\n",
    "# init array containing all races\n",
    "#(each race is a sequence of horse profile(X) and timing(Y), with timing as the first index)\n",
    "races = []\n",
    "for _ in range (0, numberOfRaces):\n",
    "    races.append([])\n",
    "\n",
    "# separate data into X and Y, indexed by races (each as an array of horse-in-race entry)\n",
    "for i in range (0, len(raceData)):\n",
    "    # group into races\n",
    "    currentRow = raceData[i]\n",
    "    raceNumber = int(currentRow[12])\n",
    "    rowData = currentRow[0:12]\n",
    "    races[raceNumber-1].append(rowData)\n",
    "\n",
    "# convert races into np.arrays\n",
    "races = list(map(lambda x: np.array(x), races))\n",
    "    \n",
    "# split data into different sets\n",
    "np.random.shuffle(races)\n",
    "historicalRaces = races[:separationPoint]\n",
    "futureRaces = races[separationPoint:]\n",
    "\n",
    "# all races ready as an array: races (randomised order)\n",
    "# historical races are used to initialise the GP model within the Bayesian Optimiser\n",
    "# future races are used to simulate the selection performed by the Bayesian Optimiser"
   ]
  },
  {
   "cell_type": "markdown",
   "metadata": {},
   "source": [
    "# Use Modified Bayesian Optimisation"
   ]
  },
  {
   "cell_type": "code",
   "execution_count": null,
   "metadata": {
    "collapsed": false
   },
   "outputs": [],
   "source": [
    "parameter_bounds = {'win': (0, 1000),\n",
    "                    'horse_rating': (0, 300),\n",
    "                    'horse_weight': (300, 800),\n",
    "                    'handicapped_weight': (0, 100),\n",
    "                    'carried_weight': (0, 100),\n",
    "                    'lane_number': (1, 18),\n",
    "                    'running_one': (1, 18),\n",
    "                    'running_two': (1, 18),\n",
    "                    'placing': (1, 18),\n",
    "                    'length_behind_winner': (0, 100),\n",
    "                    'distance': (800, 2000)\n",
    "                   }\n",
    "\n",
    "# create and init a new bayesian optimiser that follows the param limits specified above\n",
    "bayesianOptimiser = BayesianOptimization(parameter_bounds)"
   ]
  },
  {
   "cell_type": "markdown",
   "metadata": {},
   "source": [
    "## Define Kernel, Kappa, Acquisition Function, Batch Size, etc."
   ]
  },
  {
   "cell_type": "code",
   "execution_count": null,
   "metadata": {
    "collapsed": false
   },
   "outputs": [],
   "source": [
    "acquisitionFunctionFlag = 'poi' # poi (probability of improvement) | ucb (upper confidence bound) | ei (expected improvement)\n",
    "kappa = 2.576\n",
    "xi = 0.0\n",
    "theta0 = 0.02\n",
    "nugget = 0.01\n",
    "\n",
    "bayesianOptimiser.setup(acquisitionFunctionFlag, kappa, xi)"
   ]
  },
  {
   "cell_type": "markdown",
   "metadata": {},
   "source": [
    "## Initialise GP Model with Historical Data"
   ]
  },
  {
   "cell_type": "code",
   "execution_count": null,
   "metadata": {
    "collapsed": false
   },
   "outputs": [],
   "source": [
    "# strip historical races\n",
    "historicalHorses = []\n",
    "\n",
    "for race in historicalRaces:\n",
    "    for horse in race:\n",
    "        historicalHorses.append(horse)\n",
    "        \n",
    "bayesianOptimiser.initialize(np.vstack(historicalHorses))"
   ]
  },
  {
   "cell_type": "markdown",
   "metadata": {},
   "source": [
    "## Iterate for n Rounds (Races Allowed to Observe)"
   ]
  },
  {
   "cell_type": "code",
   "execution_count": null,
   "metadata": {
    "collapsed": false,
    "scrolled": false
   },
   "outputs": [],
   "source": [
    "# can only select from n sets of races, each time picking 1 race to watch\n",
    "# after watching n races, predict for a race and place a bet ... see if successful ...\n",
    "splitRatio = 0.5\n",
    "splitPoint = int(splitRatio * (len(futureRaces) - 1))\n",
    "np.random.shuffle(futureRaces)\n",
    "trainRaces = races[:splitPoint]\n",
    "testRaces = races[splitPoint:]\n",
    "\n",
    "# group training races into sets/batches\n",
    "batchSize = 3\n",
    "split_points = range(batchSize, len(trainRaces), batchSize)\n",
    "batchedTrainRaces = np.split(trainRaces, split_points)\n",
    "\n",
    "# call minimise to optimise\n",
    "bayesianOptimiser.minimize(np.array(batchedTrainRaces))"
   ]
  },
  {
   "cell_type": "markdown",
   "metadata": {},
   "source": [
    "### Iterate through Race Profiles (of scheduled / upcoming races)"
   ]
  },
  {
   "cell_type": "code",
   "execution_count": null,
   "metadata": {
    "collapsed": false,
    "scrolled": false
   },
   "outputs": [],
   "source": []
  },
  {
   "cell_type": "markdown",
   "metadata": {},
   "source": [
    "### Calculate Race Learning Index"
   ]
  },
  {
   "cell_type": "code",
   "execution_count": null,
   "metadata": {
    "collapsed": true
   },
   "outputs": [],
   "source": []
  },
  {
   "cell_type": "markdown",
   "metadata": {},
   "source": [
    "### Output Race with Max. Index"
   ]
  },
  {
   "cell_type": "code",
   "execution_count": null,
   "metadata": {
    "collapsed": false
   },
   "outputs": [],
   "source": []
  },
  {
   "cell_type": "markdown",
   "metadata": {},
   "source": [
    "## Predict a Race and Use Decision Function to Determine Whether to Bet"
   ]
  },
  {
   "cell_type": "code",
   "execution_count": null,
   "metadata": {
    "collapsed": true
   },
   "outputs": [],
   "source": []
  },
  {
   "cell_type": "markdown",
   "metadata": {},
   "source": [
    "## Plot Results with Different Params"
   ]
  },
  {
   "cell_type": "code",
   "execution_count": null,
   "metadata": {
    "collapsed": false
   },
   "outputs": [],
   "source": []
  }
 ],
 "metadata": {
  "anaconda-cloud": {},
  "kernelspec": {
   "display_name": "Python 3",
   "language": "python",
   "name": "python3"
  },
  "language_info": {
   "codemirror_mode": {
    "name": "ipython",
    "version": 3
   },
   "file_extension": ".py",
   "mimetype": "text/x-python",
   "name": "python",
   "nbconvert_exporter": "python",
   "pygments_lexer": "ipython3",
   "version": "3.5.2"
  }
 },
 "nbformat": 4,
 "nbformat_minor": 0
}
