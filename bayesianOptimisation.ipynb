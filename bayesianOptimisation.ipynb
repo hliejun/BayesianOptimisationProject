{
 "cells": [
  {
   "cell_type": "markdown",
   "metadata": {},
   "source": [
    "# Linking Dependencies"
   ]
  },
  {
   "cell_type": "code",
   "execution_count": 1,
   "metadata": {
    "collapsed": false
   },
   "outputs": [],
   "source": [
    "# imports\n",
    "%matplotlib inline\n",
    "import numpy as np\n",
    "import pandas as pd\n",
    "import matplotlib.pyplot as plt\n",
    "import matplotlib\n",
    "from bayes_opt.bayesian_optimization import BayesianOptimization\n",
    "from bayes_opt.helpers import UtilityFunction\n",
    "\n",
    "__all__ = [\"BayesianOptimization\", \"UtilityFunction\"]"
   ]
  },
  {
   "cell_type": "markdown",
   "metadata": {},
   "source": [
    "# Data Input"
   ]
  },
  {
   "cell_type": "code",
   "execution_count": 10,
   "metadata": {
    "collapsed": false
   },
   "outputs": [],
   "source": [
    "# read excel file\n",
    "raceDataFrame = pd.read_excel('data.xlsx', sheetname='Sheet1')\n",
    "raceData = np.array(raceDataFrame.values)\n",
    "raceData[np.argsort(raceData[:, -1])]\n",
    "numberOfRaces = int(raceData[-1][-1])\n",
    "proportion = 1/3\n",
    "separationPoint = int(proportion * (numberOfRaces - 1))\n",
    "\n",
    "# init array containing all races\n",
    "#(each race is a sequence of horse profile(X) and speed(Y), with speed as the first index)\n",
    "races = []\n",
    "for _ in range (0, numberOfRaces):\n",
    "    races.append([])\n",
    "\n",
    "# separate data into X and Y, indexed by races (each as an array of horse-in-race entry)\n",
    "for i in range (0, len(raceData)):\n",
    "    # group into races\n",
    "    currentRow = raceData[i]\n",
    "    raceNumber = int(currentRow[-1])\n",
    "    rowData = currentRow[0:-1]\n",
    "    races[raceNumber-1].append(rowData)\n",
    "\n",
    "# convert races into np.arrays\n",
    "races = list(map(lambda x: np.array(x), races))\n",
    "    \n",
    "# split data into different sets\n",
    "np.random.shuffle(races)\n",
    "historicalRaces = races[:separationPoint]\n",
    "futureRaces = races[separationPoint:]\n",
    "\n",
    "# all races ready as an array: races (randomised order)\n",
    "# historical races are used to initialise the GP model within the Bayesian Optimiser\n",
    "# future races are used to simulate the selection performed by the Bayesian Optimiser"
   ]
  },
  {
   "cell_type": "markdown",
   "metadata": {},
   "source": [
    "# Use Modified Bayesian Optimisation"
   ]
  },
  {
   "cell_type": "code",
   "execution_count": 12,
   "metadata": {
    "collapsed": false
   },
   "outputs": [],
   "source": [
    "parameter_bounds = {'win': (0, 1000),\n",
    "                    'horse_rating': (0, 300),\n",
    "                    'horse_weight': (300, 800),\n",
    "                    'handicapped_weight': (0, 100),\n",
    "                    'carried_weight': (0, 100),\n",
    "                    'lane_number': (1, 18),\n",
    "                    'running_one': (1, 18),\n",
    "                    'running_two': (1, 18),\n",
    "                    'placing': (1, 18),\n",
    "                    'length_behind_winner': (0, 100),\n",
    "                   }\n",
    "\n",
    "# create and init a new bayesian optimiser that follows the param limits specified above\n",
    "bayesianOptimiser = BayesianOptimization(parameter_bounds)"
   ]
  },
  {
   "cell_type": "markdown",
   "metadata": {},
   "source": [
    "## Define Kernel, Kappa, Acquisition Function, Batch Size, etc."
   ]
  },
  {
   "cell_type": "code",
   "execution_count": 13,
   "metadata": {
    "collapsed": false
   },
   "outputs": [],
   "source": [
    "acquisitionFunctionFlag = 'poi' # poi (probability of improvement) | ucb (upper confidence bound) | ei (expected improvement)\n",
    "kappa = 2.576\n",
    "xi = 0.0\n",
    "theta0 = 0.02\n",
    "nugget = 0.01\n",
    "\n",
    "bayesianOptimiser.setup(acquisitionFunctionFlag, kappa, xi)"
   ]
  },
  {
   "cell_type": "markdown",
   "metadata": {},
   "source": [
    "## Initialise GP Model with Historical Data"
   ]
  },
  {
   "cell_type": "code",
   "execution_count": 14,
   "metadata": {
    "collapsed": false
   },
   "outputs": [],
   "source": [
    "# strip historical races\n",
    "historicalHorses = []\n",
    "\n",
    "for race in historicalRaces:\n",
    "    for horse in race:\n",
    "        historicalHorses.append(horse)\n",
    "        \n",
    "bayesianOptimiser.initialize(np.vstack(historicalHorses))"
   ]
  },
  {
   "cell_type": "markdown",
   "metadata": {},
   "source": [
    "## Iterate for n Rounds (Races Allowed to Observe)"
   ]
  },
  {
   "cell_type": "code",
   "execution_count": 15,
   "metadata": {
    "collapsed": false,
    "scrolled": false
   },
   "outputs": [
    {
     "name": "stdout",
     "output_type": "stream",
     "text": [
      "9\n",
      "297\n"
     ]
    }
   ],
   "source": [
    "# can only select from n sets of races, each time picking 1 race to watch\n",
    "# after watching n races, predict for a race and place a bet ... see if successful ...\n",
    "splitRatio = 0.5\n",
    "splitPoint = int(splitRatio * (len(futureRaces) - 1))\n",
    "np.random.shuffle(futureRaces)\n",
    "trainRaces = races[:splitPoint]\n",
    "testRaces = np.array(races[splitPoint:])\n",
    "\n",
    "# group training races into sets/batches\n",
    "batchSize = 3\n",
    "split_points = range(batchSize, len(trainRaces), batchSize)\n",
    "batchedTrainRaces = np.split(trainRaces, split_points)\n",
    "print(len(batchedTrainRaces))\n",
    "\n",
    "sums =0\n",
    "for i in range(len(batchedTrainRaces)) :\n",
    "    for ii in range(len(batchedTrainRaces[i])) :\n",
    "        sums += len(batchedTrainRaces[i][ii])\n",
    "print(sums)\n"
   ]
  },
  {
   "cell_type": "code",
   "execution_count": 8,
   "metadata": {
    "collapsed": false
   },
   "outputs": [
    {
     "name": "stdout",
     "output_type": "stream",
     "text": [
      "\u001b[31mBayesian Optimization\u001b[0m\n",
      "\u001b[94m-----------------------------------------------------------------------------------------------------------------------------------------------------------------------------------------------------------------------\u001b[0m\n",
      " Step |   Time |      Value |   carried_weight |   distance |   handicapped_weight |   horse_rating |   horse_weight |   lane_number |   length_behind_winner |   placing |   running_one |   running_two |       win | \n"
     ]
    },
    {
     "name": "stderr",
     "output_type": "stream",
     "text": [
      "/Users/Larry/Documents/Projects/CS4246/BayesianOptimisation/BayesianOptimisationProject/bayes_opt/bayesian_optimization.py:187: VisibleDeprecationWarning: boolean index did not match indexed array along dimension 0; dimension is 28 but corresponding boolean dimension is 308\n",
      "  self.gp.fit(self.X[unique_rows], self.Y[unique_rows])\n"
     ]
    },
    {
     "ename": "IndexError",
     "evalue": "index 28 is out of bounds for axis 1 with size 28",
     "output_type": "error",
     "traceback": [
      "\u001b[0;31m---------------------------------------------------------------------------\u001b[0m",
      "\u001b[0;31mIndexError\u001b[0m                                Traceback (most recent call last)",
      "\u001b[0;32m<ipython-input-8-c81b856afe61>\u001b[0m in \u001b[0;36m<module>\u001b[0;34m()\u001b[0m\n\u001b[1;32m      1\u001b[0m \u001b[0;31m# call minimise to optimise\u001b[0m\u001b[0;34m\u001b[0m\u001b[0;34m\u001b[0m\u001b[0m\n\u001b[0;32m----> 2\u001b[0;31m \u001b[0mbayesianOptimiser\u001b[0m\u001b[0;34m.\u001b[0m\u001b[0mminimize\u001b[0m\u001b[0;34m(\u001b[0m\u001b[0mbatchedTrainRaces\u001b[0m\u001b[0;34m)\u001b[0m\u001b[0;34m\u001b[0m\u001b[0m\n\u001b[0m\u001b[1;32m      3\u001b[0m \u001b[0;34m\u001b[0m\u001b[0m\n\u001b[1;32m      4\u001b[0m \u001b[0;31m# optimal input to be used to update GP model\u001b[0m\u001b[0;34m\u001b[0m\u001b[0;34m\u001b[0m\u001b[0m\n\u001b[1;32m      5\u001b[0m \u001b[0mprint\u001b[0m\u001b[0;34m(\u001b[0m\u001b[0mbayesianOptimiser\u001b[0m\u001b[0;34m.\u001b[0m\u001b[0mres\u001b[0m\u001b[0;34m[\u001b[0m\u001b[0;34m'max'\u001b[0m\u001b[0;34m]\u001b[0m\u001b[0;34m)\u001b[0m\u001b[0;34m\u001b[0m\u001b[0m\n",
      "\u001b[0;32m/Users/Larry/Documents/Projects/CS4246/BayesianOptimisation/BayesianOptimisationProject/bayes_opt/bayesian_optimization.py\u001b[0m in \u001b[0;36mminimize\u001b[0;34m(self, n_batches)\u001b[0m\n\u001b[1;32m    185\u001b[0m             \u001b[0;31m# Update GP\u001b[0m\u001b[0;34m\u001b[0m\u001b[0;34m\u001b[0m\u001b[0m\n\u001b[1;32m    186\u001b[0m             \u001b[0munique_rows\u001b[0m \u001b[0;34m=\u001b[0m \u001b[0mget_unique_rows\u001b[0m\u001b[0;34m(\u001b[0m\u001b[0mself\u001b[0m\u001b[0;34m.\u001b[0m\u001b[0mX\u001b[0m\u001b[0;34m)\u001b[0m\u001b[0;34m\u001b[0m\u001b[0m\n\u001b[0;32m--> 187\u001b[0;31m             \u001b[0mself\u001b[0m\u001b[0;34m.\u001b[0m\u001b[0mgp\u001b[0m\u001b[0;34m.\u001b[0m\u001b[0mfit\u001b[0m\u001b[0;34m(\u001b[0m\u001b[0mself\u001b[0m\u001b[0;34m.\u001b[0m\u001b[0mX\u001b[0m\u001b[0;34m[\u001b[0m\u001b[0munique_rows\u001b[0m\u001b[0;34m]\u001b[0m\u001b[0;34m,\u001b[0m \u001b[0mself\u001b[0m\u001b[0;34m.\u001b[0m\u001b[0mY\u001b[0m\u001b[0;34m[\u001b[0m\u001b[0munique_rows\u001b[0m\u001b[0;34m]\u001b[0m\u001b[0;34m)\u001b[0m\u001b[0;34m\u001b[0m\u001b[0m\n\u001b[0m\u001b[1;32m    188\u001b[0m \u001b[0;34m\u001b[0m\u001b[0m\n\u001b[1;32m    189\u001b[0m             \u001b[0;31m# Update maximum value to search for next probe point.\u001b[0m\u001b[0;34m\u001b[0m\u001b[0;34m\u001b[0m\u001b[0m\n",
      "\u001b[0;31mIndexError\u001b[0m: index 28 is out of bounds for axis 1 with size 28"
     ]
    }
   ],
   "source": [
    "# call minimise to optimise\n",
    "bayesianOptimiser.minimize(np.array(batchedTrainRaces))\n",
    "\n",
    "# optimal input to be used to update GP model\n",
    "print(bayesianOptimiser.res['max'])"
   ]
  },
  {
   "cell_type": "code",
   "execution_count": null,
   "metadata": {
    "collapsed": false
   },
   "outputs": [],
   "source": [
    "print(len(batchedTrainRaces))"
   ]
  },
  {
   "cell_type": "markdown",
   "metadata": {},
   "source": [
    "### Iterate through Race Profiles (of scheduled / upcoming races)"
   ]
  },
  {
   "cell_type": "code",
   "execution_count": null,
   "metadata": {
    "collapsed": false,
    "scrolled": false
   },
   "outputs": [],
   "source": [
    "print(bayesianOptimiser.res['max'])"
   ]
  },
  {
   "cell_type": "code",
   "execution_count": null,
   "metadata": {
    "collapsed": false
   },
   "outputs": [],
   "source": [
    "print(bayesianOptimiser.res)"
   ]
  },
  {
   "cell_type": "markdown",
   "metadata": {},
   "source": [
    "### Calculate Race Learning Index"
   ]
  },
  {
   "cell_type": "code",
   "execution_count": null,
   "metadata": {
    "collapsed": false
   },
   "outputs": [],
   "source": [
    "# using trained model...\n",
    "gp = bayesianOptimiser.gp\n",
    "\n",
    "# get fitted model\n",
    "for race in testRaces: \n",
    "    print(\"RACE: \", race)\n",
    "    for horse in race:  \n",
    "        horse_timing, sigma = gp.predict(horse[1:], return_std=True)\n",
    "        print(\"HORSE: \", horse[1:])\n",
    "        print(\"HORSE TIMING PREDICTED: \", horse_timing)\n",
    "\n",
    "# predict test set\n"
   ]
  },
  {
   "cell_type": "markdown",
   "metadata": {},
   "source": [
    "### Output Race with Max. Index"
   ]
  },
  {
   "cell_type": "code",
   "execution_count": null,
   "metadata": {
    "collapsed": false
   },
   "outputs": [],
   "source": []
  },
  {
   "cell_type": "markdown",
   "metadata": {},
   "source": [
    "## Predict a Race and Use Decision Function to Determine Whether to Bet"
   ]
  },
  {
   "cell_type": "code",
   "execution_count": null,
   "metadata": {
    "collapsed": true
   },
   "outputs": [],
   "source": []
  },
  {
   "cell_type": "markdown",
   "metadata": {},
   "source": [
    "## Plot Results with Different Params"
   ]
  },
  {
   "cell_type": "code",
   "execution_count": null,
   "metadata": {
    "collapsed": false
   },
   "outputs": [],
   "source": []
  }
 ],
 "metadata": {
  "anaconda-cloud": {},
  "kernelspec": {
   "display_name": "Python [default]",
   "language": "python",
   "name": "python3"
  },
  "language_info": {
   "codemirror_mode": {
    "name": "ipython",
    "version": 3
   },
   "file_extension": ".py",
   "mimetype": "text/x-python",
   "name": "python",
   "nbconvert_exporter": "python",
   "pygments_lexer": "ipython3",
   "version": "3.5.2"
  }
 },
 "nbformat": 4,
 "nbformat_minor": 0
}
